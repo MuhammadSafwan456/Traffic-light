{
 "cells": [
  {
   "cell_type": "code",
   "execution_count": 9,
   "metadata": {},
   "outputs": [],
   "source": [
    "import cv2\n",
    "import numpy as np\n",
    "from math import isclose\n",
    "import glob\n",
    "\n",
    "def show(img_text,img):\n",
    "    cv2.imshow(img_text,img)\n",
    "    cv2.waitKey(0)\n",
    "    cv2.destroyAllWindows()\n",
    "\n",
    "\n",
    "def traffic_light_detection(img_in, radii_range):\n",
    "    temp=0\n",
    "    new_circles=[]\n",
    "    img = cv2.imread(img_in,0)\n",
    "    out_image=cv2.imread(img_in)\n",
    "    show('img',out_image)\n",
    "    main_image=out_image.copy()\n",
    "#     show(\"input\",out_image)\n",
    "    img = cv2.medianBlur(img,5)\n",
    "    cimg = cv2.cvtColor(img,cv2.COLOR_GRAY2BGR)\n",
    "    circles = cv2.HoughCircles(img,cv2.HOUGH_GRADIENT,1,10,param1=50,param2=24,minRadius=radii_range[0],maxRadius=radii_range[1]) \n",
    "    \n",
    "    try:\n",
    "        if not circles:\n",
    "            return None\n",
    "    except:\n",
    "        pass\n",
    "    \n",
    "  \n",
    "    if len(circles[0])>2:\n",
    "        circles=circles[0]\n",
    "        circles=sorted(circles,key=lambda x: x[0])\n",
    "        for i in range(0,len(circles)):\n",
    "            if i==len(circles)-1 or temp==2:\n",
    "                if isclose(circles[i][0], circles[i-1][0], abs_tol=5) :\n",
    "                    new_circles.append(circles[i])\n",
    "                    temp=temp+1\n",
    "            elif isclose(circles[i][0], circles[i+1][0], abs_tol=5):\n",
    "                new_circles.append(circles[i])\n",
    "                temp=temp+1\n",
    "                \n",
    "\n",
    "    if len(new_circles)>2:\n",
    "        new_circles=new_circles[:3]\n",
    "        new_circles.sort(key=lambda x: x[1])\n",
    "        for i in new_circles:\n",
    "            # draw the outer circle\n",
    "            cv2.circle(out_image,(i[0],i[1]),int(i[2]),(255,255,255),2)\n",
    "            # draw the center of the circle\n",
    "            cv2.circle(out_image,(i[0],i[1]),2,(255,255,0),3)\n",
    "\n",
    "#         show(\"output\",out_image)\n",
    "\n",
    "        red=new_circles[0]\n",
    "        yellow=new_circles[1]\n",
    "        green=new_circles[2]\n",
    "\n",
    "        yellow_square=main_image[int(yellow[1]):int(yellow[1])+1,int(yellow[0]):int(yellow[0])+1]\n",
    "        yellow_square=cv2.resize(yellow_square,(150,150))\n",
    "\n",
    "\n",
    "        red_square=main_image[int(red[1]):int(red[1])+1,int(red[0]):int(red[0])+1]\n",
    "        red_square=cv2.resize(red_square,(150,150))\n",
    "\n",
    "\n",
    "        green_square=main_image[int(green[1]):int(green[1])+1,int(green[0]):int(green[0])+1]\n",
    "        green_square=cv2.resize(green_square,(150,150))\n",
    "\n",
    "\n",
    "        y = yellow_square[75][75]\n",
    "        r = red_square[75][75]\n",
    "        g = green_square[75][75]\n",
    "\n",
    "        op = {\n",
    "            'red': 0,\n",
    "            'yellow': 0,\n",
    "            'green': 0 \n",
    "        }\n",
    "        if 255 in y: op['yellow'] = 1\n",
    "        elif 255 in r: op['red'] = 1\n",
    "        elif 255 in g: op['green'] = 1\n",
    "        show(\"output\",out_image)\n",
    "        return (yellow[0],yellow[1]),op\n",
    "    \n",
    "    return None\n",
    "    \n",
    "\n",
    "   "
   ]
  },
  {
   "cell_type": "code",
   "execution_count": 11,
   "metadata": {
    "scrolled": true
   },
   "outputs": [
    {
     "name": "stderr",
     "output_type": "stream",
     "text": [
      "<ipython-input-9-d7beffc17a2f>:49: DeprecationWarning: an integer is required (got type numpy.float32).  Implicit conversion to integers using __int__ is deprecated, and may be removed in a future version of Python.\n",
      "  cv2.circle(out_image,(i[0],i[1]),int(i[2]),(255,255,255),2)\n",
      "<ipython-input-9-d7beffc17a2f>:51: DeprecationWarning: an integer is required (got type numpy.float32).  Implicit conversion to integers using __int__ is deprecated, and may be removed in a future version of Python.\n",
      "  cv2.circle(out_image,(i[0],i[1]),2,(255,255,0),3)\n"
     ]
    },
    {
     "name": "stdout",
     "output_type": "stream",
     "text": [
      "((225.5, 339.5), {'red': 0, 'yellow': 0, 'green': 0})\n"
     ]
    }
   ],
   "source": [
    "# img_path=r\"input_images/scene_all_signs.png\"\n",
    "img_path=r\"D:\\free lnace project\\Traffic lights\\input_images\\TEST_NOISE.png\"\n",
    "print(traffic_light_detection(img_path,[5,100]))\n"
   ]
  },
  {
   "cell_type": "code",
   "execution_count": 52,
   "metadata": {},
   "outputs": [],
   "source": [
    "img_path = r\"D:\\free lnace project\\Traffic lights\\input_images\\noisy_scene_all_signs.png\"\n",
    "img = cv2.imread(img_path)\n",
    "# dst = cv2.fastNlMeansDenoisingColored(img,None,1,1,7,21)\n",
    "\n",
    "show(\"img\",img)\n",
    "# show(\"img\",dst)\n",
    "\n",
    "blur = cv2.blur(img,(9,9))\n",
    "gaussblur = cv2.GaussianBlur(img,(9,9),0)\n",
    "meidanblur = cv2.medianBlur(img,19)\n",
    "# show(\"img\",blur)\n",
    "# show(\"img\",gaussblur)\n",
    "show(\"img\",meidanblur)\n",
    "\n",
    "\n",
    "\n",
    "\n",
    "\n",
    "kernel=np.array([[0,-1,0],[-1,7,-1],[0,-1,0]]) \n",
    "meidanblur = cv2.filter2D(meidanblur, -1, kernel)\n",
    "\n",
    "show(\"img\",meidanblur)\n",
    "\n",
    "\n",
    "\n"
   ]
  },
  {
   "cell_type": "code",
   "execution_count": null,
   "metadata": {},
   "outputs": [],
   "source": [
    "\n",
    "cv2.imwrite(r\"D:\\free lnace project\\Traffic lights\\input_images\\TEST_NOISE.png\", dst)"
   ]
  },
  {
   "cell_type": "code",
   "execution_count": null,
   "metadata": {},
   "outputs": [],
   "source": []
  }
 ],
 "metadata": {
  "kernelspec": {
   "display_name": "Python 3",
   "language": "python",
   "name": "python3"
  },
  "language_info": {
   "codemirror_mode": {
    "name": "ipython",
    "version": 3
   },
   "file_extension": ".py",
   "mimetype": "text/x-python",
   "name": "python",
   "nbconvert_exporter": "python",
   "pygments_lexer": "ipython3",
   "version": "3.8.5"
  }
 },
 "nbformat": 4,
 "nbformat_minor": 2
}
